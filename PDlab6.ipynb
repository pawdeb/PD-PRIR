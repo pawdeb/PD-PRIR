{
  "nbformat": 4,
  "nbformat_minor": 0,
  "metadata": {
    "colab": {
      "name": "PDlab6.ipynb",
      "provenance": [],
      "collapsed_sections": []
    },
    "kernelspec": {
      "name": "python3",
      "display_name": "Python 3"
    },
    "language_info": {
      "name": "python"
    },
    "accelerator": "GPU"
  },
  "cells": [
    {
      "cell_type": "code",
      "execution_count": 3,
      "metadata": {
        "colab": {
          "base_uri": "https://localhost:8080/"
        },
        "id": "o3LA98OZE4kP",
        "outputId": "ac1ced81-9bb0-4ffa-e511-d7d549bfa681"
      },
      "outputs": [
        {
          "output_type": "stream",
          "name": "stdout",
          "text": [
            "Wed Jan 26 20:30:40 2022       \n",
            "+-----------------------------------------------------------------------------+\n",
            "| NVIDIA-SMI 495.46       Driver Version: 460.32.03    CUDA Version: 11.2     |\n",
            "|-------------------------------+----------------------+----------------------+\n",
            "| GPU  Name        Persistence-M| Bus-Id        Disp.A | Volatile Uncorr. ECC |\n",
            "| Fan  Temp  Perf  Pwr:Usage/Cap|         Memory-Usage | GPU-Util  Compute M. |\n",
            "|                               |                      |               MIG M. |\n",
            "|===============================+======================+======================|\n",
            "|   0  Tesla K80           Off  | 00000000:00:04.0 Off |                    0 |\n",
            "| N/A   31C    P8    28W / 149W |      0MiB / 11441MiB |      0%      Default |\n",
            "|                               |                      |                  N/A |\n",
            "+-------------------------------+----------------------+----------------------+\n",
            "                                                                               \n",
            "+-----------------------------------------------------------------------------+\n",
            "| Processes:                                                                  |\n",
            "|  GPU   GI   CI        PID   Type   Process name                  GPU Memory |\n",
            "|        ID   ID                                                   Usage      |\n",
            "|=============================================================================|\n",
            "|  No running processes found                                                 |\n",
            "+-----------------------------------------------------------------------------+\n"
          ]
        }
      ],
      "source": [
        "!nvidia-smi"
      ]
    },
    {
      "cell_type": "code",
      "source": [
        "!pip install git+git://github.com/andreinechaev/nvcc4jupyter.git"
      ],
      "metadata": {
        "colab": {
          "base_uri": "https://localhost:8080/"
        },
        "id": "8qt4fR0rFxOV",
        "outputId": "a2b75280-7d5b-4c47-d20f-a1fdf95a7214"
      },
      "execution_count": 4,
      "outputs": [
        {
          "output_type": "stream",
          "name": "stdout",
          "text": [
            "Collecting git+git://github.com/andreinechaev/nvcc4jupyter.git\n",
            "  Cloning git://github.com/andreinechaev/nvcc4jupyter.git to /tmp/pip-req-build-6yjh378a\n",
            "  Running command git clone -q git://github.com/andreinechaev/nvcc4jupyter.git /tmp/pip-req-build-6yjh378a\n",
            "Building wheels for collected packages: NVCCPlugin\n",
            "  Building wheel for NVCCPlugin (setup.py) ... \u001b[?25l\u001b[?25hdone\n",
            "  Created wheel for NVCCPlugin: filename=NVCCPlugin-0.0.2-py3-none-any.whl size=4306 sha256=fdf5d657acfc8abc52ea8b3a73cd8bf3f9ef54367288e5f86eb7a21884ac5176\n",
            "  Stored in directory: /tmp/pip-ephem-wheel-cache-h29cepr2/wheels/c5/2b/c0/87008e795a14bbcdfc7c846a00d06981916331eb980b6c8bdf\n",
            "Successfully built NVCCPlugin\n",
            "Installing collected packages: NVCCPlugin\n",
            "Successfully installed NVCCPlugin-0.0.2\n"
          ]
        }
      ]
    },
    {
      "cell_type": "code",
      "source": [
        "%load_ext nvcc_plugin"
      ],
      "metadata": {
        "colab": {
          "base_uri": "https://localhost:8080/"
        },
        "id": "Idmxxq-RF-Gn",
        "outputId": "acdf384c-db47-44f0-d5ef-b69e9ed171f8"
      },
      "execution_count": 5,
      "outputs": [
        {
          "output_type": "stream",
          "name": "stdout",
          "text": [
            "created output directory at /content/src\n",
            "Out bin /content/result.out\n"
          ]
        }
      ]
    },
    {
      "cell_type": "code",
      "source": [
        "%cd /usr/local/"
      ],
      "metadata": {
        "colab": {
          "base_uri": "https://localhost:8080/"
        },
        "id": "lbO0fZ7iGiS5",
        "outputId": "0ab3da0f-e674-4d76-d174-93e833b3c36a"
      },
      "execution_count": 6,
      "outputs": [
        {
          "output_type": "stream",
          "name": "stdout",
          "text": [
            "/usr/local\n"
          ]
        }
      ]
    },
    {
      "cell_type": "code",
      "source": [
        "%ls"
      ],
      "metadata": {
        "colab": {
          "base_uri": "https://localhost:8080/"
        },
        "id": "4NcmfELvGvTS",
        "outputId": "66cf83e2-5b1a-4abd-ad11-82141ba0485d"
      },
      "execution_count": 10,
      "outputs": [
        {
          "output_type": "stream",
          "name": "stdout",
          "text": [
            "\u001b[0m\u001b[01;34mbin\u001b[0m/        \u001b[01;34mcuda-11.0\u001b[0m/  \u001b[01;34m_gcs_config_ops.so\u001b[0m/  \u001b[01;34mlicensing\u001b[0m/  \u001b[01;34mshare\u001b[0m/\n",
            "\u001b[01;34mcuda-10.0\u001b[0m/  \u001b[01;34mcuda-11.1\u001b[0m/  \u001b[01;34minclude\u001b[0m/             \u001b[01;36mman\u001b[0m@        \u001b[01;34msrc\u001b[0m/\n",
            "\u001b[01;34mcuda-10.1\u001b[0m/  \u001b[01;34metc\u001b[0m/        \u001b[01;34mlib\u001b[0m/                 \u001b[01;34msbin\u001b[0m/       \u001b[01;34mxgboost\u001b[0m/\n",
            "\u001b[01;36mcuda-11\u001b[0m@    \u001b[01;34mgames\u001b[0m/      LICENSE.txt          setup.cfg\n"
          ]
        }
      ]
    },
    {
      "cell_type": "code",
      "source": [
        "!nvcc --version"
      ],
      "metadata": {
        "colab": {
          "base_uri": "https://localhost:8080/"
        },
        "id": "41q9Z9EYGpux",
        "outputId": "966c0525-18c3-49a4-c54e-9bfd390f6ba4"
      },
      "execution_count": 12,
      "outputs": [
        {
          "output_type": "stream",
          "name": "stdout",
          "text": [
            "nvcc: NVIDIA (R) Cuda compiler driver\n",
            "Copyright (c) 2005-2019 NVIDIA Corporation\n",
            "Built on Sun_Jul_28_19:07:16_PDT_2019\n",
            "Cuda compilation tools, release 10.1, V10.1.243\n"
          ]
        }
      ]
    },
    {
      "cell_type": "code",
      "source": [
        "!rm -rf cuda"
      ],
      "metadata": {
        "id": "6HqzTCEyG4pv"
      },
      "execution_count": 9,
      "outputs": []
    },
    {
      "cell_type": "code",
      "source": [
        "!ln -s /usr/local/cuda-10.1 /usr/local/cuda"
      ],
      "metadata": {
        "id": "-UCv_duJG54g"
      },
      "execution_count": 11,
      "outputs": []
    },
    {
      "cell_type": "code",
      "source": [
        "%%cu\n",
        "\n",
        "#include <stdio.h>\n",
        "#include <stdlib.h>\n",
        "#include <time.h>\n",
        " \n",
        "#define SRAND_VALUE 2137\n",
        "#define BLOCK_SIZE 128\n",
        "\n",
        "// na podstawie https://www.olcf.ornl.gov/tutorials/cuda-game-of-life/\n",
        "\n",
        "__global__ void ghostRows(int dim, int *grid)\n",
        "{\n",
        "    // granice góra dół\n",
        "    int id = blockDim.x * blockIdx.x + threadIdx.x + 1;\n",
        "    if (id <= dim)\n",
        "    {\n",
        "        grid[(dim+2)*(dim+1)+id] = grid[(dim+2)+id];\n",
        "        grid[id] = grid[(dim+2)*dim + id];\n",
        "    }\n",
        "}\n",
        "\n",
        "\n",
        "__global__ void ghostCols(int dim, int *grid)\n",
        "{\n",
        "    // granice lewo prawo\n",
        "    int id = blockDim.x * blockIdx.x + threadIdx.x;\n",
        "    if (id <= dim+1)\n",
        "    {\n",
        "        grid[id*(dim+2)+dim+1] = grid[id*(dim+2)+1];\n",
        "        grid[id*(dim+2)] = grid[id*(dim+2) + dim];   \n",
        "    }\n",
        "}\n",
        "\n",
        "\n",
        "__global__ void GOL(int dim, int *grid, int *newGrid)\n",
        "{\n",
        "    int iy = blockDim.y * blockIdx.y + threadIdx.y + 1;\n",
        "    int ix = blockDim.x * blockIdx.x + threadIdx.x + 1;\n",
        "    int id = iy * (dim+2) + ix;\n",
        "    int numNeighbors;\n",
        " \n",
        "    if (iy <= dim && ix <= dim) {\n",
        "        // check sąsiadów\n",
        "        numNeighbors = grid[id+(dim+2)] + grid[id-(dim+2)]\n",
        "                     + grid[id+1] + grid[id-1]             \n",
        "                     + grid[id+(dim+3)] + grid[id-(dim+3)]\n",
        "                     + grid[id-(dim+1)] + grid[id+(dim+1)];\n",
        "        int cell = grid[id];\n",
        "        // zasady gry w życia\n",
        "        if (cell == 1 && numNeighbors < 2)\n",
        "            newGrid[id] = 0;\n",
        "        else if (cell == 1 && (numNeighbors == 2 || numNeighbors == 3))\n",
        "            newGrid[id] = 1;\n",
        "        else if (cell == 1 && numNeighbors > 3)\n",
        "            newGrid[id] = 0;\n",
        "        else if (cell == 0 && numNeighbors == 3)\n",
        "            newGrid[id] = 1;\n",
        "        else\n",
        "            newGrid[id] = cell;\n",
        "    }\n",
        "}\n",
        "\n",
        "\n",
        "int main()\n",
        "{\n",
        "    // deklaracje\n",
        "    int i,j,iter;\n",
        "    int* h_grid; //Grid on host\n",
        "    int* d_grid; //Grid on device\n",
        "    int* d_newGrid; //Second grid used on device only\n",
        "    int* d_tmpGrid; //tmp grid pointer used to switch between grid and newGrid\n",
        " \n",
        "    // stałe\n",
        "    int dim = 1024;\n",
        "    /*printf(\"Enter nmber of game steps: \");\n",
        "    int steps;\n",
        "    scanf(\"%d\", &steps);\n",
        "    printf(\"\\nYou entered: %d \", steps);*/\n",
        "    int steps = 1<<10;\n",
        " \n",
        "    // tablica do gry z paskami granicznymi\n",
        "    size_t bytes = sizeof(int)*(dim+2)*(dim+2);\n",
        "    h_grid = (int*)malloc(bytes);\n",
        " \n",
        "\n",
        "    /****************************\n",
        "    M E T O D A   P I E R W S Z A\n",
        "    ****************************/\n",
        " \n",
        "    clock_t t;\n",
        "    t = clock();\n",
        "\n",
        "    cudaMalloc(&d_grid, bytes);\n",
        "    cudaMalloc(&d_newGrid, bytes);\n",
        " \n",
        "    // losowy stan początkowy\n",
        "    srand(SRAND_VALUE);\n",
        "    for(i = 1; i<=dim; i++) {\n",
        "        for(j = 1; j<=dim; j++) {\n",
        "            h_grid[i*(dim+2)+j] = rand() % 2;\n",
        "        }\n",
        "    }\n",
        " \n",
        "    // kopiowanie\n",
        "    cudaMemcpy(d_grid, h_grid, bytes, cudaMemcpyHostToDevice);\n",
        " \n",
        "    // bloki, gridy i inne - wystarczy raz!\n",
        "    dim3 blockSize(BLOCK_SIZE, BLOCK_SIZE,1);\n",
        "    int linGrid = (int)ceil(dim/(float)BLOCK_SIZE);\n",
        "    dim3 gridSize(linGrid,linGrid,1);\n",
        "    dim3 cpyBlockSize(BLOCK_SIZE,1,1);\n",
        "    dim3 cpyGridRowsGridSize((int)ceil(dim/(float)cpyBlockSize.x),1,1);\n",
        "    dim3 cpyGridColsGridSize((int)ceil((dim+2)/(float)cpyBlockSize.x),1,1);\n",
        " \n",
        "    // gra w życie\n",
        "    for (iter = 0; iter<steps; iter++) {\n",
        "        ghostRows<<<cpyGridRowsGridSize, cpyBlockSize>>>(dim, d_grid);\n",
        "        ghostCols<<<cpyGridColsGridSize, cpyBlockSize>>>(dim, d_grid);\n",
        "        GOL<<<gridSize, blockSize>>>(dim, d_grid, d_newGrid);\n",
        "        // iterowanie\n",
        "        d_tmpGrid = d_grid;\n",
        "        d_grid = d_newGrid;\n",
        "        d_newGrid = d_tmpGrid;\n",
        "    }\n",
        " \n",
        "    // wyniki\n",
        "    cudaMemcpy(h_grid, d_grid, bytes, cudaMemcpyDeviceToHost);\n",
        "    int total1 = 0;\n",
        "    for (i = 1; i<=dim; i++) {\n",
        "        for (j = 1; j<=dim; j++) {\n",
        "            total1 += h_grid[i*(dim+2)+j];\n",
        "        }\n",
        "    }\n",
        "    printf(\"Total Alive: %d\\n\", total1);\n",
        "\n",
        "    memset(h_grid, 0, bytes);\n",
        "    free(h_grid);\n",
        "\n",
        "    t = clock() - t;\n",
        "    double time_taken = ((double)t)/CLOCKS_PER_SEC;\n",
        "    printf(\"Metoda 1 took %f seconds to execute \\n\", time_taken);\n",
        "\n",
        "\n",
        "    /****************************\n",
        "       M E T O D A   D R U G A\n",
        "    ****************************/\n",
        "      \n",
        "    t = clock();\n",
        " \n",
        "    cudaMallocHost(&h_grid, bytes);\n",
        " \n",
        "    // losowy stan początkowy\n",
        "    srand(SRAND_VALUE);\n",
        "    for(i = 1; i<=dim; i++) {\n",
        "        for(j = 1; j<=dim; j++) {\n",
        "            h_grid[i*(dim+2)+j] = rand() % 2;\n",
        "        }\n",
        "    }\n",
        " \n",
        "    cudaMemcpy(d_grid, h_grid, bytes, cudaMemcpyHostToDevice);\n",
        "\n",
        "    // gra w życie\n",
        "    for (iter = 0; iter<steps; iter++) {\n",
        "        ghostRows<<<cpyGridRowsGridSize, cpyBlockSize>>>(dim, d_grid);\n",
        "        ghostCols<<<cpyGridColsGridSize, cpyBlockSize>>>(dim, d_grid);\n",
        "        GOL<<<gridSize, blockSize>>>(dim, d_grid, d_newGrid);\n",
        "        // iterowanie\n",
        "        d_tmpGrid = d_grid;\n",
        "        d_grid = d_newGrid;\n",
        "        d_newGrid = d_tmpGrid;\n",
        "    }\n",
        " \n",
        "    // wyniki\n",
        "    cudaMemcpy(h_grid, d_grid, bytes, cudaMemcpyDeviceToHost);\n",
        "    int total2 = 0;\n",
        "    for (i = 1; i<=dim; i++) {\n",
        "        for (j = 1; j<=dim; j++) {\n",
        "            total2 += h_grid[i*(dim+2)+j];\n",
        "        }\n",
        "    }\n",
        "    printf(\"Total Alive: %d\\n\", total2);\n",
        "\n",
        "    memset(h_grid, 0, bytes);\n",
        "    cudaFreeHost(h_grid);\n",
        " \n",
        "    t = clock() - t;\n",
        "    time_taken = ((double)t)/CLOCKS_PER_SEC;\n",
        "    printf(\"Metoda 2 took %f seconds to execute \\n\", time_taken);\n",
        "\n",
        "\n",
        "    /****************************\n",
        "     M E T O D A   T R Z E C I A\n",
        "    ****************************/\n",
        " \n",
        "    t = clock();\n",
        " \n",
        "    cudaHostAlloc(&h_grid, bytes, cudaHostAllocMapped);\n",
        "    cudaHostGetDevicePointer(&d_grid, h_grid, 0);\n",
        "    cudaHostGetDevicePointer(&d_newGrid, h_grid, 0);\n",
        "    cudaHostGetDevicePointer(&d_tmpGrid, h_grid, 0);\n",
        "\n",
        "    // losowy stan początkowy\n",
        "    srand(SRAND_VALUE);\n",
        "    for(i = 1; i<=dim; i++) {\n",
        "        for(j = 1; j<=dim; j++) {\n",
        "            h_grid[i*(dim+2)+j] = rand() % 2;\n",
        "        }\n",
        "    }\n",
        "\n",
        "    // gra w życie\n",
        "    for (iter = 0; iter<steps; iter++) {\n",
        "        ghostRows<<<cpyGridRowsGridSize, cpyBlockSize>>>(dim, d_grid);\n",
        "        ghostCols<<<cpyGridColsGridSize, cpyBlockSize>>>(dim, d_grid);\n",
        "        GOL<<<gridSize, blockSize>>>(dim, d_grid, d_newGrid);\n",
        "        // iterowanie\n",
        "        d_tmpGrid = d_grid;\n",
        "        d_grid = d_newGrid;\n",
        "        d_newGrid = d_tmpGrid;\n",
        "    }\n",
        "    cudaDeviceSynchronize();\n",
        " \n",
        "    // wyniki\n",
        "    cudaMemcpy(h_grid, d_grid, bytes, cudaMemcpyDeviceToHost);\n",
        "    int total3 = 0;\n",
        "    for (i = 1; i<=dim; i++) {\n",
        "        for (j = 1; j<=dim; j++) {\n",
        "            total3 += h_grid[i*(dim+2)+j];\n",
        "        }\n",
        "    }\n",
        "    printf(\"Total Alive: %d\\n\", total3);\n",
        " \n",
        "    memset(h_grid, 0, bytes);\n",
        "    cudaFreeHost(h_grid);\n",
        " \n",
        "    t = clock() - t;\n",
        "    time_taken = ((double)t)/CLOCKS_PER_SEC;\n",
        "    printf(\"Metoda 3 took %f seconds to execute \\n\", time_taken);\n",
        " \n",
        "\n",
        "    /****************************\n",
        "     M E T O D A   C Z W A R T A\n",
        "    ****************************/\n",
        " \n",
        "    /*t = clock();\n",
        " \n",
        "    cudaMallocManaged(&h_grid, bytes);\n",
        " \n",
        "    // losowy stan początkowy\n",
        "    srand(SRAND_VALUE);\n",
        "    for(i = 1; i<=dim; i++) {\n",
        "        for(j = 1; j<=dim; j++) {\n",
        "            h_grid[i*(dim+2)+j] = rand() % 2;\n",
        "        }\n",
        "    }\n",
        "\n",
        "    // gra w życie\n",
        "    for (iter = 0; iter<steps; iter++) {\n",
        "        ghostRows<<<cpyGridRowsGridSize, cpyBlockSize>>>(dim, d_grid);\n",
        "        ghostCols<<<cpyGridColsGridSize, cpyBlockSize>>>(dim, d_grid);\n",
        "        GOL<<<gridSize, blockSize>>>(dim, d_grid, d_newGrid);\n",
        "        // iterowanie\n",
        "        d_tmpGrid = d_grid;\n",
        "        d_grid = d_newGrid;\n",
        "        d_newGrid = d_tmpGrid;\n",
        "    }\n",
        " \n",
        "    // wyniki\n",
        "    cudaMemcpy(h_grid, d_grid, bytes, cudaMemcpyDeviceToHost);\n",
        "    int total4 = 0;\n",
        "    for (i = 1; i<=dim; i++) {\n",
        "        for (j = 1; j<=dim; j++) {\n",
        "            total4 += h_grid[i*(dim+2)+j];\n",
        "        }\n",
        "    }\n",
        "    printf(\"Total Alive: %d\\n\", total4);\n",
        " \n",
        "    memset(h_grid, 0, bytes);\n",
        "    cudaFree(h_grid);\n",
        " \n",
        "    t = clock() - t;\n",
        "    time_taken = ((double)t)/CLOCKS_PER_SEC;\n",
        "    printf(\"Metoda 4 took %f seconds to execute \\n\", time_taken);*/\n",
        "\n",
        "    // ostatnie usuwania\n",
        "    cudaFree(d_grid);\n",
        "    cudaFree(d_newGrid);\n",
        "    cudaFree(d_tmpGrid);\n",
        "    return 0;\n",
        "}"
      ],
      "metadata": {
        "colab": {
          "base_uri": "https://localhost:8080/"
        },
        "id": "bcCzZn6kEQWO",
        "outputId": "1e7b30c6-514c-4f3d-e778-d0fd113f944c"
      },
      "execution_count": 48,
      "outputs": [
        {
          "output_type": "stream",
          "name": "stdout",
          "text": [
            "Total Alive: 523969\n",
            "Metoda 1 took 0.163928 seconds to execute \n",
            "Total Alive: 523969\n",
            "Metoda 2 took 0.046805 seconds to execute \n",
            "Total Alive: 523969\n",
            "Metoda 3 took 0.085711 seconds to execute \n",
            "\n"
          ]
        }
      ]
    }
  ]
}